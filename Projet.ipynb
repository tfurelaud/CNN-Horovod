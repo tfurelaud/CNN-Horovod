{
 "cells": [
  {
   "cell_type": "code",
   "execution_count": 2,
   "metadata": {},
   "outputs": [],
   "source": [
    "import pickle\n",
    "import os\n",
    "import sys\n",
    "import glob\n",
    "import tensorflow as tf\n",
    "import keras\n",
    "import numpy as np\n",
    "import matplotlib\n",
    "import matplotlib.pyplot as plt\n",
    "from keras.datasets import cifar10\n",
    "from keras.models import Sequential\n",
    "from keras.layers import Dense, Dropout, Conv2D, MaxPooling2D, Flatten"
   ]
  },
  {
   "cell_type": "code",
   "execution_count": 3,
   "metadata": {},
   "outputs": [
    {
     "name": "stderr",
     "output_type": "stream",
     "text": [
      "<ipython-input-3-4fdd1157d1b5>:24: FutureWarning: elementwise comparison failed; returning scalar instead, but in the future will perform elementwise comparison\n",
      "  if (x_train == ''):\n"
     ]
    }
   ],
   "source": [
    "def unpickle(file):\n",
    "    import pickle\n",
    "    with open(file, 'rb') as fo:\n",
    "        dict = pickle.load(fo, encoding='bytes')\n",
    "    return dict\n",
    "\n",
    "\n",
    "def load_CIFAR_batch(file): \n",
    "    file_dict = unpickle(file)\n",
    "    Y = file_dict[b'labels']\n",
    "    X = file_dict[b'data']\n",
    "    return X, Y\n",
    "\n",
    "def load_CIFAR10(root):\n",
    "    os.chdir(root)\n",
    "    train_batch_list = glob.glob('data_batch*')\n",
    "    test_batch = glob.glob('test_batch*')\n",
    "    \n",
    "    # Training set \n",
    "    x_train = ''\n",
    "    y_train = ''\n",
    "    for file in train_batch_list:\n",
    "        x_batch, y_batch = load_CIFAR_batch(file)\n",
    "        if (x_train == ''):\n",
    "            x_train = x_batch\n",
    "            y_train = y_batch\n",
    "        else:\n",
    "            x_train = np.concatenate((x_train, x_batch))\n",
    "            y_train = np.concatenate((y_train, y_batch))\n",
    "        \n",
    "    x_train = x_train.reshape((x_train.shape[0], 3, 32, 32)).transpose(0,2,3,1)\n",
    "    x_test, y_test = load_CIFAR_batch(test_batch[0])\n",
    "    x_test = x_test.reshape((x_test.shape[0], 3, 32, 32)).transpose(0,2,3,1)\n",
    "    \n",
    "    return x_train, y_train, x_test, y_test\n",
    "\n",
    "path_data = 'cifar-10-batches-py/'\n",
    "X_train, Y_train, X_test, Y_test = load_CIFAR10(path_data) \n",
    "\n",
    "X_train = X_train.astype('float32')\n",
    "X_test = X_test.astype('float32')\n",
    "X_train /= 255\n",
    "X_test /= 255\n"
   ]
  },
  {
   "cell_type": "code",
   "execution_count": 4,
   "metadata": {},
   "outputs": [],
   "source": [
    "num_classes = 10\n",
    "class_names =['airplane', 'automobile', 'bird', 'cat', 'deer', 'dog', 'frog', 'horse', 'ship', 'truck']\n",
    "\n",
    "Y_train = keras.utils.to_categorical(Y_train, num_classes)\n",
    "Y_test = keras.utils.to_categorical(Y_test, num_classes)"
   ]
  },
  {
   "cell_type": "code",
   "execution_count": 5,
   "metadata": {},
   "outputs": [],
   "source": [
    "def cnn1():\n",
    "    model = Sequential()\n",
    "    model.add(Conv2D(32,\n",
    "                     kernel_size=(3,3),\n",
    "                     activation='relu',\n",
    "                     input_shape=X_train.shape[1:]))\n",
    "    model.add(Conv2D(64,\n",
    "                     kernel_size=(3,3),\n",
    "                     activation='relu'))\n",
    "    model.add(MaxPooling2D(pool_size=(2,2)))\n",
    "    model.add(Flatten())\n",
    "    model.add(Dense(128, activation='relu'))\n",
    "    model.add(Dense(num_classes, activation='softmax'))\n",
    "    model.compile(loss='categorical_crossentropy', optimizer='adam', metrics=['accuracy'])\n",
    "    return model"
   ]
  },
  {
   "cell_type": "code",
   "execution_count": 6,
   "metadata": {},
   "outputs": [],
   "source": [
    "def cnn2():\n",
    "    model = Sequential()\n",
    "    \n",
    "    model.add(Conv2D(32, (3, 3),activation='relu', padding = 'same', input_shape=X_train.shape[1:]))\n",
    "    model.add(Conv2D(32, (3, 3),activation='relu', padding = 'same'))\n",
    "    model.add(MaxPooling2D(pool_size= (2,2)))\n",
    "    model.add(Dropout(0.2))\n",
    "    \n",
    "    model.add(Conv2D(64, (3, 3),activation='relu', padding = 'same'))\n",
    "    model.add(Conv2D(64, (3, 3), activation = 'relu'))\n",
    "    model.add(MaxPooling2D(pool_size= (2, 2)))\n",
    "    model.add(Dropout(0.3))\n",
    "\n",
    "    model.add(Conv2D(128, (3, 3),activation='relu', padding = 'same'))\n",
    "    model.add(Conv2D(128, (3, 3), activation = 'relu'))\n",
    "    model.add(MaxPooling2D(pool_size= (2, 2)))\n",
    "    model.add(Dropout(0.4))\n",
    "    \n",
    "    model.add(Flatten())\n",
    "    model.add(Dense(256,activation='relu'))\n",
    "    model.add(Dropout(0.5))\n",
    "    model.add(Dense(num_classes,activation='softmax'))\n",
    "    model.compile(loss= 'categorical_crossentropy', optimizer = 'adam', metrics= ['accuracy'])\n",
    "    return model"
   ]
  },
  {
   "cell_type": "code",
   "execution_count": 26,
   "metadata": {},
   "outputs": [
    {
     "name": "stdout",
     "output_type": "stream",
     "text": [
      "Model: \"sequential\"\n",
      "_________________________________________________________________\n",
      "Layer (type)                 Output Shape              Param #   \n",
      "=================================================================\n",
      "conv2d (Conv2D)              (None, 32, 32, 32)        896       \n",
      "_________________________________________________________________\n",
      "conv2d_1 (Conv2D)            (None, 32, 32, 32)        9248      \n",
      "_________________________________________________________________\n",
      "max_pooling2d (MaxPooling2D) (None, 16, 16, 32)        0         \n",
      "_________________________________________________________________\n",
      "dropout (Dropout)            (None, 16, 16, 32)        0         \n",
      "_________________________________________________________________\n",
      "conv2d_2 (Conv2D)            (None, 16, 16, 64)        18496     \n",
      "_________________________________________________________________\n",
      "conv2d_3 (Conv2D)            (None, 14, 14, 64)        36928     \n",
      "_________________________________________________________________\n",
      "max_pooling2d_1 (MaxPooling2 (None, 7, 7, 64)          0         \n",
      "_________________________________________________________________\n",
      "dropout_1 (Dropout)          (None, 7, 7, 64)          0         \n",
      "_________________________________________________________________\n",
      "conv2d_4 (Conv2D)            (None, 7, 7, 128)         73856     \n",
      "_________________________________________________________________\n",
      "conv2d_5 (Conv2D)            (None, 5, 5, 128)         147584    \n",
      "_________________________________________________________________\n",
      "max_pooling2d_2 (MaxPooling2 (None, 2, 2, 128)         0         \n",
      "_________________________________________________________________\n",
      "dropout_2 (Dropout)          (None, 2, 2, 128)         0         \n",
      "_________________________________________________________________\n",
      "flatten (Flatten)            (None, 512)               0         \n",
      "_________________________________________________________________\n",
      "dense (Dense)                (None, 256)               131328    \n",
      "_________________________________________________________________\n",
      "dropout_3 (Dropout)          (None, 256)               0         \n",
      "_________________________________________________________________\n",
      "dense_1 (Dense)              (None, 10)                2570      \n",
      "=================================================================\n",
      "Total params: 420,906\n",
      "Trainable params: 420,906\n",
      "Non-trainable params: 0\n",
      "_________________________________________________________________\n"
     ]
    }
   ],
   "source": [
    "model = cnn2()\n",
    "model.summary()"
   ]
  },
  {
   "cell_type": "code",
   "execution_count": 27,
   "metadata": {},
   "outputs": [
    {
     "name": "stdout",
     "output_type": "stream",
     "text": [
      "Epoch 1/20\n",
      "391/391 [==============================] - 39s 101ms/step - loss: 1.8563 - accuracy: 0.2962 - val_loss: 1.4591 - val_accuracy: 0.4557\n",
      "Epoch 2/20\n",
      "391/391 [==============================] - 38s 98ms/step - loss: 1.4063 - accuracy: 0.4856 - val_loss: 1.2730 - val_accuracy: 0.5538\n",
      "Epoch 3/20\n",
      "391/391 [==============================] - 38s 98ms/step - loss: 1.2090 - accuracy: 0.5659 - val_loss: 1.0453 - val_accuracy: 0.6172\n",
      "Epoch 4/20\n",
      "391/391 [==============================] - 38s 98ms/step - loss: 1.0759 - accuracy: 0.6145 - val_loss: 0.9669 - val_accuracy: 0.6561\n",
      "Epoch 5/20\n",
      "391/391 [==============================] - 38s 98ms/step - loss: 0.9809 - accuracy: 0.6523 - val_loss: 0.8913 - val_accuracy: 0.6830\n",
      "Epoch 6/20\n",
      "391/391 [==============================] - 38s 98ms/step - loss: 0.9118 - accuracy: 0.6776 - val_loss: 0.8333 - val_accuracy: 0.7108\n",
      "Epoch 7/20\n",
      "391/391 [==============================] - 38s 98ms/step - loss: 0.8467 - accuracy: 0.7032 - val_loss: 0.7627 - val_accuracy: 0.7338\n",
      "Epoch 8/20\n",
      "391/391 [==============================] - 38s 98ms/step - loss: 0.8060 - accuracy: 0.7215 - val_loss: 0.7427 - val_accuracy: 0.7421\n",
      "Epoch 9/20\n",
      "391/391 [==============================] - 38s 98ms/step - loss: 0.7647 - accuracy: 0.7362 - val_loss: 0.7545 - val_accuracy: 0.7373\n",
      "Epoch 10/20\n",
      "391/391 [==============================] - 38s 98ms/step - loss: 0.7294 - accuracy: 0.7486 - val_loss: 0.6838 - val_accuracy: 0.7657\n",
      "Epoch 11/20\n",
      "391/391 [==============================] - 38s 98ms/step - loss: 0.7022 - accuracy: 0.7588 - val_loss: 0.6601 - val_accuracy: 0.7788\n",
      "Epoch 12/20\n",
      "391/391 [==============================] - 38s 98ms/step - loss: 0.6755 - accuracy: 0.7666 - val_loss: 0.6900 - val_accuracy: 0.7635\n",
      "Epoch 13/20\n",
      "391/391 [==============================] - 38s 98ms/step - loss: 0.6603 - accuracy: 0.7717 - val_loss: 0.6269 - val_accuracy: 0.7874\n",
      "Epoch 14/20\n",
      "391/391 [==============================] - 38s 98ms/step - loss: 0.6457 - accuracy: 0.7787 - val_loss: 0.6045 - val_accuracy: 0.7945\n",
      "Epoch 15/20\n",
      "391/391 [==============================] - 38s 98ms/step - loss: 0.6256 - accuracy: 0.7832 - val_loss: 0.6133 - val_accuracy: 0.7912\n",
      "Epoch 16/20\n",
      "391/391 [==============================] - 38s 98ms/step - loss: 0.6165 - accuracy: 0.7873 - val_loss: 0.6291 - val_accuracy: 0.7880\n",
      "Epoch 17/20\n",
      "391/391 [==============================] - 38s 98ms/step - loss: 0.6007 - accuracy: 0.7924 - val_loss: 0.5729 - val_accuracy: 0.8050\n",
      "Epoch 18/20\n",
      "391/391 [==============================] - 38s 98ms/step - loss: 0.5795 - accuracy: 0.8006 - val_loss: 0.5884 - val_accuracy: 0.8026\n",
      "Epoch 19/20\n",
      "391/391 [==============================] - 38s 98ms/step - loss: 0.5788 - accuracy: 0.8007 - val_loss: 0.5775 - val_accuracy: 0.8059\n",
      "Epoch 20/20\n",
      "391/391 [==============================] - 38s 98ms/step - loss: 0.5543 - accuracy: 0.8092 - val_loss: 0.5676 - val_accuracy: 0.8082\n"
     ]
    }
   ],
   "source": [
    "batch_size = 128\n",
    "epochs = 20\n",
    "\n",
    "hist = model.fit(X_train, Y_train, \n",
    "                 validation_data=(X_test, Y_test), \n",
    "                 epochs=epochs, \n",
    "                 batch_size=batch_size)"
   ]
  },
  {
   "cell_type": "code",
   "execution_count": 38,
   "metadata": {},
   "outputs": [
    {
     "name": "stdout",
     "output_type": "stream",
     "text": [
      "Test Loss 0.5676113963127136\n",
      "Test accuracy 0.8082000017166138\n"
     ]
    },
    {
     "data": {
      "image/png": "[encoded data removed]",
      "text/plain": [
       "<Figure size 432x288 with 1 Axes>"
      ]
     },
     "metadata": {
      "needs_background": "light"
     },
     "output_type": "display_data"
    },
    {
     "data": {
      "image/png": "[encoded data removed]",
      "text/plain": [
       "<Figure size 432x288 with 1 Axes>"
      ]
     },
     "metadata": {
      "needs_background": "light"
     },
     "output_type": "display_data"
    }
   ],
   "source": [
    "score = model.evaluate(X_test, Y_test, verbose = 0)\n",
    "print(\"Test Loss\", score[0])\n",
    "print(\"Test accuracy\", score[1])\n",
    "\n",
    "plt.figure(1)\n",
    "plt.plot(hist.history['accuracy'])\n",
    "plt.plot(hist.history['val_accuracy'])\n",
    "plt.title(\"Model Accuracy\")\n",
    "plt.xlabel('Epoch')\n",
    "plt.ylabel('Accuracy')\n",
    "plt.legend(['train','validation'], loc = 'upper left')\n",
    "('Test accuracy', 0.8015)\n",
    "\n",
    "plt.figure(2)\n",
    "plt.plot(hist.history['loss'])\n",
    "plt.plot(hist.history['val_loss'])\n",
    "plt.title(\"Model loss\")\n",
    "plt.xlabel('Epoch')\n",
    "plt.ylabel('loss')\n",
    "plt.legend(['train','validation'], loc = 'upper right')\n",
    "plt.show()"
   ]
  },
  {
   "cell_type": "code",
   "execution_count": null,
   "metadata": {},
   "outputs": [],
   "source": []
  }
 ],
 "metadata": {
  "kernelspec": {
   "display_name": "Python 3",
   "language": "python",
   "name": "python3"
  },
  "language_info": {
   "codemirror_mode": {
    "name": "ipython",
    "version": 3
   },
   "file_extension": ".py",
   "mimetype": "text/x-python",
   "name": "python",
   "nbconvert_exporter": "python",
   "pygments_lexer": "ipython3",
   "version": "3.8.5"
  }
 },
 "nbformat": 4,
 "nbformat_minor": 4
}
